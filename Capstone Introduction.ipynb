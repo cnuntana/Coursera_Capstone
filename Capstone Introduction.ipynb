{
 "cells": [
  {
   "cell_type": "markdown",
   "metadata": {},
   "source": [
    "<H1><b>Average Monthly Income & Venues Data Analysis of Thailand"
   ]
  },
  {
   "cell_type": "markdown",
   "metadata": {},
   "source": [
    "<H2>A1 Background and Problem"
   ]
  },
  {
   "cell_type": "markdown",
   "metadata": {},
   "source": [
    "   Thailand the country at the center of the Southeast Asian Indochinese with population about 68 million people, composed of 77 provinces, was the most visited country in Southeast Asia in 2013, according to the World Tourism Organization.\n",
    "    \n",
    "   As a resident of Thailand, I would like to study the average monthly income in each provinces of Thailand therefore both government and investor might use the information for making long-term strategic planing. \n",
    "   \n",
    "   In order to forecast the average monthly income, we could use the venues data because in each provinces if people has higher monthly income, the consumable ability will be higher then the investment in each venues will be higher and vice versa."
   ]
  },
  {
   "cell_type": "markdown",
   "metadata": {},
   "source": [
    "<H2>A2 description of the data"
   ]
  },
  {
   "cell_type": "markdown",
   "metadata": {},
   "source": [
    "1. Name of each provinces from **Wikipedia**\n",
    "  * Cleaning and Making initial dataframe \n",
    "2. The average monthly income from **Thailand government open data**.\n",
    "  * Matching with the dataframe\n",
    "3. Latitude and Longitude from **Google**.\n",
    "  * Matching with the dataframe\n",
    "4. Common venues from **Four Square** for each provinces of Thailand.\n",
    "  * Ranking the most common venues in each provinces\n",
    "  * Merging with the dataframe\n",
    "5. Thailand Geojson file from **Github/apisit** for choropleth map.\n",
    "  * Solving the unmatched province name."
   ]
  },
  {
   "cell_type": "code",
   "execution_count": null,
   "metadata": {},
   "outputs": [],
   "source": []
  }
 ],
 "metadata": {
  "kernelspec": {
   "display_name": "Python 3",
   "language": "python",
   "name": "python3"
  },
  "language_info": {
   "codemirror_mode": {
    "name": "ipython",
    "version": 3
   },
   "file_extension": ".py",
   "mimetype": "text/x-python",
   "name": "python",
   "nbconvert_exporter": "python",
   "pygments_lexer": "ipython3",
   "version": "3.6.8"
  }
 },
 "nbformat": 4,
 "nbformat_minor": 2
}
